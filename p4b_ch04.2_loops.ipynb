{
 "cells": [
  {
   "cell_type": "code",
   "execution_count": 7,
   "metadata": {
    "collapsed": false
   },
   "outputs": [],
   "source": [
    "# open and read the file\n",
    "filename = 'blood_on_the_tracks.txt'\n",
    "infile = open(filename, 'r')\n",
    "\n",
    "# declare our list\n",
    "songs = []\n",
    "\n",
    "# read each line into a list\n",
    "for line in infile:\n",
    "    line = line.strip('\\n')\n",
    "    songs.append(line)\n",
    "\n",
    "# close the file\n",
    "infile.close()"
   ]
  },
  {
   "cell_type": "code",
   "execution_count": 8,
   "metadata": {
    "collapsed": false
   },
   "outputs": [
    {
     "name": "stdout",
     "output_type": "stream",
     "text": [
      "1.  Tangled Up in Blue\n",
      "2.  Simple Twist of Fate\n",
      "3.  You're a Big Girl Now\n",
      "4.  Idiot Wind\n",
      "5.  You're Gonna Make Me Lonesome When You Go\n",
      "6.  Meet Me in the Morning\n",
      "7.  Lily, Rosemary and the Jack of Hearts\n",
      "8.  If You See Her, Say Hello\n",
      "9.  Shelter from the Storm\n",
      "10.  Buckets of Rain\n",
      "\n",
      "\n",
      "There are 10 songs on blood_on_the_tracks.txt\n"
     ]
    }
   ],
   "source": [
    "# print the track listing\n",
    "\n",
    "# count the tracks\n",
    "track_num = 1\n",
    "\n",
    "for track in songs:\n",
    "    print(str(track_num) + '. ', track)\n",
    "    track_num += 1\n",
    "    \n",
    "# print number of songs\n",
    "print(\"\\n\")\n",
    "print(\"There are\", len(songs), \"songs on\", filename)\n"
   ]
  },
  {
   "cell_type": "code",
   "execution_count": 9,
   "metadata": {
    "collapsed": false
   },
   "outputs": [
    {
     "name": "stdout",
     "output_type": "stream",
     "text": [
      "character M\n",
      "character e\n",
      "character e\n",
      "character t\n",
      "character  \n",
      "character M\n",
      "character e\n",
      "character  \n",
      "character i\n",
      "character n\n",
      "character  \n",
      "character t\n",
      "character h\n",
      "character e\n",
      "character  \n",
      "character M\n",
      "character o\n",
      "character r\n",
      "character n\n",
      "character i\n",
      "character n\n",
      "character g\n"
     ]
    }
   ],
   "source": [
    "# you can easily loop over all the characters in a string\n",
    "favorite = songs[5]\n",
    "for i in favorite:\n",
    "    print(\"character\", i)"
   ]
  },
  {
   "cell_type": "code",
   "execution_count": 10,
   "metadata": {
    "collapsed": true
   },
   "outputs": [],
   "source": [
    "# splitting strings\n",
    "names = \"melanogaster,simulans,yakuba,ananassae\"\n",
    "species = names.split(',')"
   ]
  },
  {
   "cell_type": "code",
   "execution_count": 11,
   "metadata": {
    "collapsed": false
   },
   "outputs": [
    {
     "name": "stdout",
     "output_type": "stream",
     "text": [
      "melanogaster\n",
      "simulans\n",
      "yakuba\n",
      "ananassae\n"
     ]
    }
   ],
   "source": [
    "for i in species:\n",
    "    print(i)"
   ]
  },
  {
   "cell_type": "code",
   "execution_count": 12,
   "metadata": {
    "collapsed": true
   },
   "outputs": [],
   "source": [
    "# first exon is 8 nt [0-7]; intron is 8 nt [8-15]; second exon is 7 nt [16-22] \n",
    "gene = 'ATGCCAGTttccggaaGTTCTAA'\n",
    "ex1 = gene[0:8]\n",
    "ex2 = gene[16:23]"
   ]
  },
  {
   "cell_type": "code",
   "execution_count": 13,
   "metadata": {
    "collapsed": false
   },
   "outputs": [],
   "source": [
    "cds = ex1 + ex2"
   ]
  },
  {
   "cell_type": "code",
   "execution_count": 21,
   "metadata": {
    "collapsed": false
   },
   "outputs": [
    {
     "name": "stdout",
     "output_type": "stream",
     "text": [
      "0\n",
      "ATG\n",
      "3\n",
      "CCA\n",
      "6\n",
      "GTG\n",
      "9\n",
      "TTC\n",
      "12\n",
      "TAA\n",
      "12\n"
     ]
    }
   ],
   "source": [
    "# loop over the codons\n",
    "for banana in range(0, len(cds), 3):\n",
    "    print(banana)\n",
    "    print(cds[banana:banana+3])\n",
    "\n",
    "print(banana)"
   ]
  },
  {
   "cell_type": "code",
   "execution_count": null,
   "metadata": {
    "collapsed": true
   },
   "outputs": [],
   "source": []
  }
 ],
 "metadata": {
  "anaconda-cloud": {},
  "kernelspec": {
   "display_name": "Python [conda root]",
   "language": "python",
   "name": "conda-root-py"
  },
  "language_info": {
   "codemirror_mode": {
    "name": "ipython",
    "version": 3
   },
   "file_extension": ".py",
   "mimetype": "text/x-python",
   "name": "python",
   "nbconvert_exporter": "python",
   "pygments_lexer": "ipython3",
   "version": "3.5.2"
  }
 },
 "nbformat": 4,
 "nbformat_minor": 1
}
