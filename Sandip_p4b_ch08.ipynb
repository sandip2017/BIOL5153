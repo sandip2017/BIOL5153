{
 "cells": [
  {
   "cell_type": "code",
   "execution_count": 1,
   "metadata": {
    "collapsed": false
   },
   "outputs": [
    {
     "name": "stdout",
     "output_type": "stream",
     "text": [
      "5\n"
     ]
    }
   ],
   "source": [
    "dna = \"ATCGATCGATCGTACGCTGA\"\n",
    "a_count = dna.count(\"A\")\n",
    "print(str(a_count))"
   ]
  },
  {
   "cell_type": "code",
   "execution_count": 2,
   "metadata": {
    "collapsed": false
   },
   "outputs": [
    {
     "name": "stdout",
     "output_type": "stream",
     "text": [
      "count is 0 for AAA\n",
      "count is 1 for AAT\n",
      "count is 0 for AAG\n",
      "count is 0 for AAC\n",
      "count is 0 for ATA\n",
      "count is 0 for ATT\n",
      "count is 1 for ATG\n",
      "count is 2 for ATC\n",
      "count is 0 for AGA\n",
      "count is 0 for AGT\n",
      "count is 0 for AGG\n",
      "count is 0 for AGC\n",
      "count is 0 for ACA\n",
      "count is 0 for ACT\n",
      "count is 1 for ACG\n",
      "count is 0 for ACC\n",
      "count is 0 for TAA\n",
      "count is 0 for TAT\n",
      "count is 0 for TAG\n",
      "count is 1 for TAC\n",
      "count is 0 for TTA\n",
      "count is 0 for TTT\n",
      "count is 0 for TTG\n",
      "count is 0 for TTC\n",
      "count is 2 for TGA\n",
      "count is 0 for TGT\n",
      "count is 0 for TGG\n",
      "count is 0 for TGC\n",
      "count is 0 for TCA\n",
      "count is 0 for TCT\n",
      "count is 2 for TCG\n",
      "count is 0 for TCC\n",
      "count is 0 for GAA\n",
      "count is 2 for GAT\n",
      "count is 0 for GAG\n",
      "count is 0 for GAC\n",
      "count is 1 for GTA\n",
      "count is 0 for GTT\n",
      "count is 0 for GTG\n",
      "count is 0 for GTC\n",
      "count is 0 for GGA\n",
      "count is 0 for GGT\n",
      "count is 0 for GGG\n",
      "count is 0 for GGC\n",
      "count is 0 for GCA\n",
      "count is 1 for GCT\n",
      "count is 0 for GCG\n",
      "count is 0 for GCC\n",
      "count is 0 for CAA\n",
      "count is 0 for CAT\n",
      "count is 0 for CAG\n",
      "count is 0 for CAC\n",
      "count is 0 for CTA\n",
      "count is 0 for CTT\n",
      "count is 1 for CTG\n",
      "count is 0 for CTC\n",
      "count is 1 for CGA\n",
      "count is 1 for CGT\n",
      "count is 0 for CGG\n",
      "count is 1 for CGC\n",
      "count is 0 for CCA\n",
      "count is 0 for CCT\n",
      "count is 0 for CCG\n",
      "count is 0 for CCC\n",
      "[0, 1, 0, 0, 0, 0, 1, 2, 0, 0, 0, 0, 0, 0, 1, 0, 0, 0, 0, 1, 0, 0, 0, 0, 2, 0, 0, 0, 0, 0, 2, 0, 0, 2, 0, 0, 1, 0, 0, 0, 0, 0, 0, 0, 0, 1, 0, 0, 0, 0, 0, 0, 0, 0, 1, 0, 1, 1, 0, 1, 0, 0, 0, 0]\n"
     ]
    }
   ],
   "source": [
    "# generating three nested loops to count trinucleotides\n",
    "dna = \"AATGATCGATCGTACGCTGA\"\n",
    "all_counts = []\n",
    "for base1 in ['A', 'T', 'G', 'C']:\n",
    " for base2 in ['A', 'T', 'G', 'C']:\n",
    "  for base3 in ['A', 'T', 'G', 'C']:\n",
    "   trinucleotide = base1 + base2 + base3\n",
    "   count = dna.count(trinucleotide)\n",
    "   print(\"count is \" + str(count) + \" for \" + trinucleotide)\n",
    "   all_counts.append(count)\n",
    "print(all_counts)"
   ]
  },
  {
   "cell_type": "code",
   "execution_count": 3,
   "metadata": {
    "collapsed": false
   },
   "outputs": [
    {
     "name": "stdout",
     "output_type": "stream",
     "text": [
      "count for TGA is 2\n"
     ]
    }
   ],
   "source": [
    "print(\"count for TGA is \" + str(all_counts[24]))"
   ]
  },
  {
   "cell_type": "code",
   "execution_count": 5,
   "metadata": {
    "collapsed": false
   },
   "outputs": [
    {
     "name": "stdout",
     "output_type": "stream",
     "text": [
      "[0, 1, 0, 0, 0, 0, 1, 2, 0, 0, 0, 0, 0, 0, 1, 0, 0, 0, 0, 1, 0, 0, 0, 0, 2, 0, 0, 0, 0, 0, 2, 0, 0, 2, 0, 0, 1, 0, 0, 0, 0, 0, 0, 0, 0, 1, 0, 0, 0, 0, 0, 0, 0, 0, 1, 0, 1, 1, 0, 1, 0, 0, 0, 0]\n",
      "['AAA', 'AAT', 'AAG', 'AAC', 'ATA', 'ATT', 'ATG', 'ATC', 'AGA', 'AGT', 'AGG', 'AGC', 'ACA', 'ACT', 'ACG', 'ACC', 'TAA', 'TAT', 'TAG', 'TAC', 'TTA', 'TTT', 'TTG', 'TTC', 'TGA', 'TGT', 'TGG', 'TGC', 'TCA', 'TCT', 'TCG', 'TCC', 'GAA', 'GAT', 'GAG', 'GAC', 'GTA', 'GTT', 'GTG', 'GTC', 'GGA', 'GGT', 'GGG', 'GGC', 'GCA', 'GCT', 'GCG', 'GCC', 'CAA', 'CAT', 'CAG', 'CAC', 'CTA', 'CTT', 'CTG', 'CTC', 'CGA', 'CGT', 'CGG', 'CGC', 'CCA', 'CCT', 'CCG', 'CCC']\n"
     ]
    }
   ],
   "source": [
    "# generating two lists one for counts and one for nucleotides index\n",
    "dna = \"AATGATCGATCGTACGCTGA\"\n",
    "all_trinucleotides = []\n",
    "all_counts = []\n",
    "for base1 in ['A', 'T', 'G', 'C']:\n",
    " for base2 in ['A', 'T', 'G', 'C']:\n",
    "  for base3 in ['A', 'T', 'G', 'C']:\n",
    "   trinucleotide = base1 + base2 + base3\n",
    "   count = dna.count(trinucleotide)\n",
    "   all_trinucleotides.append(trinucleotide)\n",
    "   all_counts.append(count)\n",
    "print(all_counts)\n",
    "print(all_trinucleotides)"
   ]
  },
  {
   "cell_type": "code",
   "execution_count": 6,
   "metadata": {
    "collapsed": false
   },
   "outputs": [
    {
     "name": "stdout",
     "output_type": "stream",
     "text": [
      "count for TGA is 2\n"
     ]
    }
   ],
   "source": [
    "i = all_trinucleotides.index('TGA')\n",
    "c = all_counts[i]\n",
    "print('count for TGA is ' + str(c))"
   ]
  },
  {
   "cell_type": "code",
   "execution_count": 8,
   "metadata": {
    "collapsed": false
   },
   "outputs": [
    {
     "name": "stdout",
     "output_type": "stream",
     "text": [
      "GC[ATGC]GC\n"
     ]
    },
    {
     "data": {
      "text/plain": [
       "'GAATTC'"
      ]
     },
     "execution_count": 8,
     "metadata": {},
     "output_type": "execute_result"
    }
   ],
   "source": [
    "# Creating a dictionary\n",
    "enzymes = {\n",
    "    'EcoRI' : r'GAATTC',\n",
    "    'AvaII' : r'GG(A|T)CC',\n",
    "    'BisI' : r'GC[ATGC]GC'\n",
    "}\n",
    "print(enzymes['BisI'])\n",
    "# remove the EcoRI from dictionary\n",
    "enzymes.pop('EcoRI')\n"
   ]
  },
  {
   "cell_type": "code",
   "execution_count": 11,
   "metadata": {
    "collapsed": false
   },
   "outputs": [
    {
     "ename": "SyntaxError",
     "evalue": "invalid syntax (<ipython-input-11-9518b0e0db00>, line 3)",
     "output_type": "error",
     "traceback": [
      "\u001b[0;36m  File \u001b[0;32m\"<ipython-input-11-9518b0e0db00>\"\u001b[0;36m, line \u001b[0;32m3\u001b[0m\n\u001b[0;31m    enzymes['AvaII] = r'GG(A|T)CC'\u001b[0m\n\u001b[0m                         ^\u001b[0m\n\u001b[0;31mSyntaxError\u001b[0m\u001b[0;31m:\u001b[0m invalid syntax\n"
     ]
    }
   ],
   "source": [
    "enzymes = {}\n",
    "enzymes['EcoRI'] = r'GAATTC'\n",
    "enzymes['AvaII] = r'GG(A|T)CC'\n",
    "enzymes['BisI'] = r'GC[ATGC]GC'\n"
   ]
  },
  {
   "cell_type": "code",
   "execution_count": 12,
   "metadata": {
    "collapsed": false
   },
   "outputs": [
    {
     "name": "stdout",
     "output_type": "stream",
     "text": [
      "{'AAA': 0, 'AAT': 1, 'AAG': 0, 'AAC': 0, 'ATA': 0, 'ATT': 0, 'ATG': 1, 'ATC': 2, 'AGA': 0, 'AGT': 0, 'AGG': 0, 'AGC': 0, 'ACA': 0, 'ACT': 0, 'ACG': 1, 'ACC': 0, 'TAA': 0, 'TAT': 0, 'TAG': 0, 'TAC': 1, 'TTA': 0, 'TTT': 0, 'TTG': 0, 'TTC': 0, 'TGA': 2, 'TGT': 0, 'TGG': 0, 'TGC': 0, 'TCA': 0, 'TCT': 0, 'TCG': 2, 'TCC': 0, 'GAA': 0, 'GAT': 2, 'GAG': 0, 'GAC': 0, 'GTA': 1, 'GTT': 0, 'GTG': 0, 'GTC': 0, 'GGA': 0, 'GGT': 0, 'GGG': 0, 'GGC': 0, 'GCA': 0, 'GCT': 1, 'GCG': 0, 'GCC': 0, 'CAA': 0, 'CAT': 0, 'CAG': 0, 'CAC': 0, 'CTA': 0, 'CTT': 0, 'CTG': 1, 'CTC': 0, 'CGA': 1, 'CGT': 1, 'CGG': 0, 'CGC': 1, 'CCA': 0, 'CCT': 0, 'CCG': 0, 'CCC': 0}\n"
     ]
    }
   ],
   "source": [
    "# Storint trinucleotide and their counts in dictionary\n",
    "dna = \"AATGATCGATCGTACGCTGA\"\n",
    "counts = {}\n",
    "for base1 in ['A', 'T', 'G', 'C']:\n",
    " for base2 in ['A', 'T', 'G', 'C']:\n",
    "  for base3 in ['A', 'T', 'G', 'C']:\n",
    "   trinucleotide = base1 + base2 + base3\n",
    "   count = dna.count(trinucleotide)\n",
    "   counts[trinucleotide] = count\n",
    "print(counts)"
   ]
  },
  {
   "cell_type": "code",
   "execution_count": 13,
   "metadata": {
    "collapsed": false
   },
   "outputs": [
    {
     "name": "stdout",
     "output_type": "stream",
     "text": [
      "2\n"
     ]
    }
   ],
   "source": [
    "print(counts['TGA'])"
   ]
  },
  {
   "cell_type": "code",
   "execution_count": 15,
   "metadata": {
    "collapsed": false
   },
   "outputs": [
    {
     "name": "stdout",
     "output_type": "stream",
     "text": [
      "{'AAT': 1, 'ATG': 1, 'ATC': 2, 'ACG': 1, 'TAC': 1, 'TGA': 2, 'TCG': 2, 'GAT': 2, 'GTA': 1, 'GCT': 1, 'CTG': 1, 'CGA': 1, 'CGT': 1, 'CGC': 1}\n"
     ]
    }
   ],
   "source": [
    "# getting rid of all the zeros\n",
    "dna = \"AATGATCGATCGTACGCTGA\"\n",
    "counts = {}\n",
    "for base1 in ['A', 'T', 'G', 'C']:\n",
    " for base2 in ['A', 'T', 'G', 'C']:\n",
    "  for base3 in ['A', 'T', 'G', 'C']:\n",
    "   trinucleotide = base1 + base2 + base3\n",
    "   count = dna.count(trinucleotide)\n",
    "   if count > 0:\n",
    "    counts[trinucleotide] = count\n",
    "print(counts)"
   ]
  },
  {
   "cell_type": "code",
   "execution_count": 16,
   "metadata": {
    "collapsed": false
   },
   "outputs": [
    {
     "name": "stdout",
     "output_type": "stream",
     "text": [
      "2\n"
     ]
    }
   ],
   "source": [
    "print(counts['TGA'])"
   ]
  },
  {
   "cell_type": "code",
   "execution_count": 17,
   "metadata": {
    "collapsed": false
   },
   "outputs": [
    {
     "ename": "KeyError",
     "evalue": "'AAA'",
     "output_type": "error",
     "traceback": [
      "\u001b[0;31m---------------------------------------------------------------------------\u001b[0m",
      "\u001b[0;31mKeyError\u001b[0m                                  Traceback (most recent call last)",
      "\u001b[0;32m<ipython-input-17-5b39046a0308>\u001b[0m in \u001b[0;36m<module>\u001b[0;34m()\u001b[0m\n\u001b[1;32m      1\u001b[0m \u001b[0;31m# when counts for a trinucleotide is zero\u001b[0m\u001b[0;34m\u001b[0m\u001b[0;34m\u001b[0m\u001b[0m\n\u001b[0;32m----> 2\u001b[0;31m \u001b[0mprint\u001b[0m\u001b[0;34m(\u001b[0m\u001b[0mcounts\u001b[0m\u001b[0;34m[\u001b[0m\u001b[0;34m'AAA'\u001b[0m\u001b[0;34m]\u001b[0m\u001b[0;34m)\u001b[0m\u001b[0;34m\u001b[0m\u001b[0m\n\u001b[0m",
      "\u001b[0;31mKeyError\u001b[0m: 'AAA'"
     ]
    }
   ],
   "source": [
    "# when counts for a trinucleotide is zero\n",
    "print(counts['AAA'])"
   ]
  },
  {
   "cell_type": "code",
   "execution_count": 19,
   "metadata": {
    "collapsed": true
   },
   "outputs": [],
   "source": [
    "# try wheather nuclotide is exist or not\n",
    "if 'AAA' in counts:\n",
    " print(counts('AAA'))"
   ]
  },
  {
   "cell_type": "code",
   "execution_count": 20,
   "metadata": {
    "collapsed": false
   },
   "outputs": [
    {
     "name": "stdout",
     "output_type": "stream",
     "text": [
      "2\n",
      "2\n"
     ]
    }
   ],
   "source": [
    "print(counts['TGA'])\n",
    "print(counts.get('TGA'))"
   ]
  },
  {
   "cell_type": "code",
   "execution_count": 21,
   "metadata": {
    "collapsed": false
   },
   "outputs": [
    {
     "name": "stdout",
     "output_type": "stream",
     "text": [
      "None\n"
     ]
    }
   ],
   "source": [
    "print(counts.get('AAA'))"
   ]
  },
  {
   "cell_type": "code",
   "execution_count": 22,
   "metadata": {
    "collapsed": false
   },
   "outputs": [
    {
     "name": "stdout",
     "output_type": "stream",
     "text": [
      "count for TGA is 2\n",
      "count for AAA is 0\n"
     ]
    }
   ],
   "source": [
    "print(\"count for TGA is \" + str(counts.get('TGA', 0)))\n",
    "print(\"count for AAA is \" + str(counts.get('AAA', 0)))"
   ]
  },
  {
   "cell_type": "code",
   "execution_count": 24,
   "metadata": {
    "collapsed": false
   },
   "outputs": [
    {
     "name": "stdout",
     "output_type": "stream",
     "text": [
      "ATC\n",
      "TGA\n",
      "TCG\n",
      "GAT\n"
     ]
    }
   ],
   "source": [
    "# Iterating over a dictionary\n",
    "# Printing all the trinucleotides that has two counts\n",
    "for base1 in ['A', 'T', 'G', 'C']:\n",
    " for base2 in ['A', 'T', 'G', 'C']:\n",
    "  for base3 in ['A', 'T', 'G', 'C']:\n",
    "   trinucleotide = base1 + base2 + base3\n",
    "   if counts.get(trinucleotide, 0) == 2:\n",
    "    print(trinucleotide)"
   ]
  },
  {
   "cell_type": "code",
   "execution_count": 25,
   "metadata": {
    "collapsed": false
   },
   "outputs": [
    {
     "name": "stdout",
     "output_type": "stream",
     "text": [
      "dict_keys(['AAT', 'ATG', 'ATC', 'ACG', 'TAC', 'TGA', 'TCG', 'GAT', 'GTA', 'GCT', 'CTG', 'CGA', 'CGT', 'CGC'])\n"
     ]
    }
   ],
   "source": [
    "# Iterating over keys\n",
    "print(counts.keys())"
   ]
  },
  {
   "cell_type": "code",
   "execution_count": 26,
   "metadata": {
    "collapsed": false
   },
   "outputs": [
    {
     "name": "stdout",
     "output_type": "stream",
     "text": [
      "ATC\n",
      "TGA\n",
      "TCG\n",
      "GAT\n"
     ]
    }
   ],
   "source": [
    "# trinucleotides having count 2\n",
    "for trinucleotide in counts.keys():\n",
    " if counts.get(trinucleotide) == 2:\n",
    "  print(trinucleotide)"
   ]
  },
  {
   "cell_type": "code",
   "execution_count": 27,
   "metadata": {
    "collapsed": false
   },
   "outputs": [
    {
     "name": "stdout",
     "output_type": "stream",
     "text": [
      "ATC\n",
      "GAT\n",
      "TCG\n",
      "TGA\n"
     ]
    }
   ],
   "source": [
    "# Sorting nuclotide\n",
    "for trinucleotide in sorted(counts.keys()):\n",
    " if counts.get(trinucleotide) == 2:\n",
    "  print(trinucleotide)"
   ]
  },
  {
   "cell_type": "code",
   "execution_count": 28,
   "metadata": {
    "collapsed": false
   },
   "outputs": [
    {
     "name": "stdout",
     "output_type": "stream",
     "text": [
      "ATC\n",
      "TGA\n",
      "TCG\n",
      "GAT\n"
     ]
    }
   ],
   "source": [
    "# Iterating over items\n",
    "for trinucleotide, count in counts.items():\n",
    " if count == 2:\n",
    "  print(trinucleotide)"
   ]
  },
  {
   "cell_type": "code",
   "execution_count": null,
   "metadata": {
    "collapsed": true
   },
   "outputs": [],
   "source": []
  }
 ],
 "metadata": {
  "kernelspec": {
   "display_name": "Python 3",
   "language": "python",
   "name": "python3"
  },
  "language_info": {
   "codemirror_mode": {
    "name": "ipython",
    "version": 3
   },
   "file_extension": ".py",
   "mimetype": "text/x-python",
   "name": "python",
   "nbconvert_exporter": "python",
   "pygments_lexer": "ipython3",
   "version": "3.6.0"
  }
 },
 "nbformat": 4,
 "nbformat_minor": 2
}
