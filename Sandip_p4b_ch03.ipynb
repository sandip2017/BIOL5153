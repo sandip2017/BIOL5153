{
 "cells": [
  {
   "cell_type": "code",
   "execution_count": 1,
   "metadata": {
    "collapsed": false
   },
   "outputs": [
    {
     "name": "stdout",
     "output_type": "stream",
     "text": [
      "AGCTTGGCCAATAGCTTTAAAAGCGCGCCCCCAAAAATTTTTCGCGAATTGGCCTGCA\n",
      "\n"
     ]
    }
   ],
   "source": [
    "my_file = open(\"dna.txt\")\n",
    "file_contents = my_file.read()\n",
    "print(file_contents)"
   ]
  },
  {
   "cell_type": "code",
   "execution_count": 1,
   "metadata": {
    "collapsed": false
   },
   "outputs": [
    {
     "name": "stdout",
     "output_type": "stream",
     "text": [
      "sequence is AGCTTGGCCAATAGCTTTAAAAGCGCGCCCCCAAAAATTTTTCGCGAATTGGCCTGCA\n",
      " and length is 59\n"
     ]
    }
   ],
   "source": [
    "# open the file\n",
    "my_file = open(\"dna.txt\")\n",
    "# read the contents\n",
    "my_dna = my_file.read()\n",
    "# calculate the length\n",
    "dna_length = len(my_dna)\n",
    "# print the output\n",
    "print(\"sequence is \" + my_dna +\n",
    "\" and length is \" + str(dna_length))"
   ]
  },
  {
   "cell_type": "code",
   "execution_count": 2,
   "metadata": {
    "collapsed": false
   },
   "outputs": [
    {
     "name": "stdout",
     "output_type": "stream",
     "text": [
      "sequence is AGCTTGGCCAATAGCTTTAAAAGCGCGCCCCCAAAAATTTTTCGCGAATTGGCCTGCA and length is 58\n"
     ]
    }
   ],
   "source": [
    "# using rstrip to remove newline character \n",
    "my_file = open(\"dna.txt\")\n",
    "my_file_contents = my_file.read()\n",
    "# remove the newline from the end of the file contents\n",
    "my_dna = my_file_contents.rstrip(\"\\n\")\n",
    "dna_length = len(my_dna)\n",
    "print(\"sequence is \" + my_dna + \" and length is \" + str(dna_length))"
   ]
  },
  {
   "cell_type": "code",
   "execution_count": 4,
   "metadata": {
    "collapsed": false
   },
   "outputs": [
    {
     "name": "stdout",
     "output_type": "stream",
     "text": [
      "sequence is AGCTTGGCCAATAGCTTTAAAAGCGCGCCCCCAAAAATTTTTCGCGAATTGGCCTGCA and length is 58\n"
     ]
    }
   ],
   "source": [
    "my_file = open(\"dna.txt\")\n",
    "my_dna = my_file.read().rstrip(\"\\n\")\n",
    "dna_length = len(my_dna)\n",
    "print(\"sequence is \" + my_dna + \" and length is \" + str(dna_length))"
   ]
  },
  {
   "cell_type": "code",
   "execution_count": 1,
   "metadata": {
    "collapsed": false
   },
   "outputs": [
    {
     "data": {
      "text/plain": [
       "11"
      ]
     },
     "execution_count": 1,
     "metadata": {},
     "output_type": "execute_result"
    }
   ],
   "source": [
    "#opening files for writing \"w\" for writing and \"a\" for appending\n",
    "my_file=open(\"dna.txt\", \"w\")\n",
    "my_file.write(\"Hello world\")"
   ]
  },
  {
   "cell_type": "code",
   "execution_count": 3,
   "metadata": {
    "collapsed": true
   },
   "outputs": [],
   "source": [
    "#closing a file\n",
    "my_file=open(\"dna.txt\", \"w\")\n",
    "my_file.write(\"Hello world\")\n",
    "#remember to close\n",
    "my_file.close()"
   ]
  },
  {
   "cell_type": "code",
   "execution_count": 5,
   "metadata": {
    "collapsed": false
   },
   "outputs": [
    {
     "data": {
      "text/plain": [
       "45"
      ]
     },
     "execution_count": 5,
     "metadata": {},
     "output_type": "execute_result"
    }
   ],
   "source": [
    "# create a file name genomic_dna.txt\n",
    "dna_file=open(\"out\", \"w\")\n",
    "dna_file.write(\"CGATTTAAAGGCCGTAGCTAGTCATGCATGCATGTGCCCGTGAAA\")"
   ]
  },
  {
   "cell_type": "code",
   "execution_count": 8,
   "metadata": {
    "collapsed": false
   },
   "outputs": [
    {
     "name": "stdout",
     "output_type": "stream",
     "text": [
      "ATCGATCGATCGATCGACTGACTAGTCATAGCTATGCATGTAGCTACTCGATCGATCGATCGatcgatcgatcgatcgatcgatcatgctATCATCGATCGATATCGATGCATCGACTACTAT\n"
     ]
    }
   ],
   "source": [
    "#splitting genomic DNA\n",
    "my_dna=\"ATCGATCGATCGATCGACTGACTAGTCATAGCTATGCATGTAGCTACTCGATCGATCGATCGATCGATCGATCGATCGATCGATCATGCTATCATCGATCGATATCGATGCATCGACTACTAT\"\n",
    "exon1=my_dna[0:62]\n",
    "intron=my_dna[62:90]\n",
    "exon2=my_dna[90:10000]\n",
    "print(exon1 + intron.lower()+ exon2)"
   ]
  },
  {
   "cell_type": "code",
   "execution_count": 9,
   "metadata": {
    "collapsed": false
   },
   "outputs": [
    {
     "data": {
      "text/plain": [
       "28"
      ]
     },
     "execution_count": 9,
     "metadata": {},
     "output_type": "execute_result"
    }
   ],
   "source": [
    "#create two files for coding and non-coding\n",
    "coding_file=open(\"coding_dna.txt\",\"w\")\n",
    "noncoding_file=open(\"noncoding_dna.txt\",\"w\")\n",
    "exon1=my_dna[0:62]\n",
    "intron=my_dna[62:90]\n",
    "exon2=my_dna[90:10000]\n",
    "coding_file.write(exon1 + exon2)\n",
    "noncoding_file.write(intron)"
   ]
  },
  {
   "cell_type": "code",
   "execution_count": 10,
   "metadata": {
    "collapsed": false
   },
   "outputs": [
    {
     "name": "stdout",
     "output_type": "stream",
     "text": [
      "ABC123\n",
      "ATCGTACGATCGATCGATCGCTAGACGTATCG\n",
      "DEF456\n",
      "actgatcgacgatcgatcgatcacgact\n",
      "HIJ789\n",
      "ACTGAC-ACTGT--ACTGTA----CATGTG\n",
      ">ABC123\n",
      "ATCGTACGATCGATCGATCGCTAGACGTATCG\n",
      ">DEF456\n",
      "actgatcgacgatcgatcgatcacgact\n",
      ">HIJ789\n",
      "ACTGAC-ACTGT--ACTGTA----CATGTG\n"
     ]
    }
   ],
   "source": [
    "#open the file and read its contents\n",
    "dna_file=open(\"dna.txt\")\n",
    "my_dna=dna_file.read()\n",
    "\n",
    "#extract the different bits of DNA sequence\n",
    "exon1=my_dna[0:62]\n",
    "intron=my_dna[62:90]\n",
    "exon2=my_dna[90:10000]\n",
    "\n",
    "#open the two output files\n",
    "coding_file=open(\"coding_dna.txt\",\"w\")\n",
    "noncoding_file=open(\"noncoding_dna.txt\",\"w\")\n",
    "\n",
    "#write the sequences to the output files\n",
    "coding_file.write(exon1 + exon2)\n",
    "noncoding_file.write(intron)\n",
    "header_1=\"ABC123\"\n",
    "header_2=\"DEF456\"\n",
    "header_3=\"HIJ789\"\n",
    "seq_1=\"ATCGTACGATCGATCGATCGCTAGACGTATCG\"\n",
    "seq_2=\"actgatcgacgatcgatcgatcacgact\"\n",
    "seq_3=\"ACTGAC-ACTGT--ACTGTA----CATGTG\"\n",
    "print(header_1)\n",
    "print(seq_1)\n",
    "print(header_2)\n",
    "print(seq_2)\n",
    "print(header_3)\n",
    "print(seq_3)\n",
    "print('>' + header_1 + '\\n' + seq_1)\n",
    "print('>' + header_2 + '\\n' + seq_2)\n",
    "print('>' + header_3 + '\\n' + seq_3)"
   ]
  },
  {
   "cell_type": "code",
   "execution_count": 11,
   "metadata": {
    "collapsed": false
   },
   "outputs": [
    {
     "name": "stdout",
     "output_type": "stream",
     "text": [
      "ABC123\n",
      "ATCGTACGATCGATCGATCGCTAGACGTATCG\n",
      "DEF456\n",
      "actgatcgacgatcgatcgatcacgact\n",
      "HIJ789\n",
      "ACTGAC-ACTGT--ACTGTA----CATGTG\n",
      ">ABC123\n",
      "ATCGTACGATCGATCGATCGCTAGACGTATCG\n",
      ">DEF456\n",
      "ACTGATCGACGATCGATCGATCACGACT\n",
      ">HIJ789\n",
      "ACTGACACTGTACTGTACATGTG\n"
     ]
    }
   ],
   "source": [
    "header_1=\"ABC123\"\n",
    "header_2=\"DEF456\"\n",
    "header_3=\"HIJ789\"\n",
    "seq_1=\"ATCGTACGATCGATCGATCGCTAGACGTATCG\"\n",
    "seq_2=\"actgatcgacgatcgatcgatcacgact\"\n",
    "seq_3=\"ACTGAC-ACTGT--ACTGTA----CATGTG\"\n",
    "print(header_1)\n",
    "print(seq_1)\n",
    "print(header_2)\n",
    "print(seq_2)\n",
    "print(header_3)\n",
    "print(seq_3)\n",
    "print('>' + header_1 + '\\n' + seq_1)\n",
    "print('>' + header_2 + '\\n' + seq_2.upper())\n",
    "print('>' + header_3 + '\\n' + seq_3.replace('-', ''))"
   ]
  },
  {
   "cell_type": "code",
   "execution_count": 12,
   "metadata": {
    "collapsed": false
   },
   "outputs": [
    {
     "name": "stdout",
     "output_type": "stream",
     "text": [
      "ABC123\n",
      "ATCGTACGATCGATCGATCGCTAGACGTATCG\n",
      "DEF456\n",
      "actgatcgacgatcgatcgatcacgact\n",
      "HIJ789\n",
      "ACTGAC-ACTGT--ACTGTA----CATGTG\n",
      ">ABC123\n",
      "ATCGTACGATCGATCGATCGCTAGACGTATCG\n",
      ">DEF456\n",
      "ACTGATCGACGATCGATCGATCACGACT\n",
      ">HIJ789\n",
      "ACTGACACTGTACTGTACATGTG\n"
     ]
    },
    {
     "data": {
      "text/plain": [
       "31"
      ]
     },
     "execution_count": 12,
     "metadata": {},
     "output_type": "execute_result"
    }
   ],
   "source": [
    "header_1=\"ABC123\"\n",
    "header_2=\"DEF456\"\n",
    "header_3=\"HIJ789\"\n",
    "seq_1=\"ATCGTACGATCGATCGATCGCTAGACGTATCG\"\n",
    "seq_2=\"actgatcgacgatcgatcgatcacgact\"\n",
    "seq_3=\"ACTGAC-ACTGT--ACTGTA----CATGTG\"\n",
    "print(header_1)\n",
    "print(seq_1)\n",
    "print(header_2)\n",
    "print(seq_2)\n",
    "print(header_3)\n",
    "print(seq_3)\n",
    "print('>' + header_1 + '\\n' + seq_1)\n",
    "print('>' + header_2 + '\\n' + seq_2.upper())\n",
    "print('>' + header_3 + '\\n' + seq_3.replace('-', ''))\n",
    "output = open(\"sequences.fasta\", \"w\")\n",
    "output.write('>' + header_1 + '\\n' + seq_1)\n",
    "output.write('>' + header_2 + '\\n' + seq_2.upper())\n",
    "output.write('>' + header_3 + '\\n' + seq_3.replace('-', ''))"
   ]
  },
  {
   "cell_type": "code",
   "execution_count": null,
   "metadata": {
    "collapsed": true
   },
   "outputs": [],
   "source": []
  }
 ],
 "metadata": {
  "kernelspec": {
   "display_name": "Python 3",
   "language": "python",
   "name": "python3"
  },
  "language_info": {
   "codemirror_mode": {
    "name": "ipython",
    "version": 3
   },
   "file_extension": ".py",
   "mimetype": "text/x-python",
   "name": "python",
   "nbconvert_exporter": "python",
   "pygments_lexer": "ipython3",
   "version": "3.6.0"
  }
 },
 "nbformat": 4,
 "nbformat_minor": 2
}
